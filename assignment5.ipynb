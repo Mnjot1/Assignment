{
 "cells": [
  {
   "cell_type": "markdown",
   "id": "6433b3f4-e78b-4e7a-b940-fd9b0fecb93c",
   "metadata": {},
   "source": [
    "# Assignment FEB 2 2023"
   ]
  },
  {
   "cell_type": "code",
   "execution_count": null,
   "id": "877f493e-e73d-4ea8-bb84-cd8348b31bf0",
   "metadata": {},
   "outputs": [],
   "source": [
    "# Q1.\n",
    "#What are the characteristics of the tuples? Is tuple immutable?"
   ]
  },
  {
   "cell_type": "code",
   "execution_count": 21,
   "id": "69efc29d-a375-4727-9bed-e838fa96ad4c",
   "metadata": {},
   "outputs": [],
   "source": [
    "#Tuples are orderd, unchangebale, allow duplicate values , indexed they allow string,float, set insdie it.,\n",
    "#Yes, tuples are immutable"
   ]
  },
  {
   "cell_type": "code",
   "execution_count": null,
   "id": "010124b1-c489-4eaf-a506-659d9b9aea72",
   "metadata": {},
   "outputs": [],
   "source": []
  },
  {
   "cell_type": "code",
   "execution_count": null,
   "id": "1ffd9723-b4e0-46ff-a016-c466a7f72c0a",
   "metadata": {},
   "outputs": [],
   "source": [
    "# Q2. \n",
    "#What are the two tuple methods in python? Give an example of each method. Give a reason why\n",
    "#tuples have only two in-built methods as compared to Lists."
   ]
  },
  {
   "cell_type": "code",
   "execution_count": null,
   "id": "33f6ee1e-a203-409f-a4e6-8561a4f7a857",
   "metadata": {},
   "outputs": [],
   "source": [
    "# The two tuple methods in python are index() and count()"
   ]
  },
  {
   "cell_type": "code",
   "execution_count": null,
   "id": "ad45c924-551f-4c26-aa05-1bdf3fca0e67",
   "metadata": {},
   "outputs": [],
   "source": [
    "# example of each method "
   ]
  },
  {
   "cell_type": "code",
   "execution_count": 30,
   "id": "f17f5073-5555-486d-b9a6-9a986dbe0a0c",
   "metadata": {},
   "outputs": [
    {
     "name": "stdout",
     "output_type": "stream",
     "text": [
      "1\n"
     ]
    }
   ],
   "source": [
    "# example 1 index()\n",
    "tuple1=(13,42,333,443,55,8,3,4,2,4,53,2,3,2,5,3,5,643,9)\n",
    "print(tuple1.index(42)  ) ## add the value and  it will tell you the index"
   ]
  },
  {
   "cell_type": "code",
   "execution_count": 29,
   "id": "162e5dfd-0a9d-4155-bbcb-f4f640c261ce",
   "metadata": {},
   "outputs": [
    {
     "name": "stdout",
     "output_type": "stream",
     "text": [
      "3\n"
     ]
    }
   ],
   "source": [
    "# example 2 count()\n",
    "print(tuple1.count(2))  ## dd the value and  it will tell you how many times it occurs\n",
    "\n",
    "## and do take care of True and False here they also count for 1's and 0's"
   ]
  },
  {
   "cell_type": "code",
   "execution_count": null,
   "id": "eb90de21-eca3-4f47-a796-dde11b2b1328",
   "metadata": {},
   "outputs": [],
   "source": [
    "# Tuples have only two-built in method becausce they cannot be modify becausce they are immutable\n",
    "# whereas in List is mutbale so, we need different function to method to modify it."
   ]
  },
  {
   "cell_type": "code",
   "execution_count": null,
   "id": "129e548a-27d3-4881-9df9-9a8e19219f2d",
   "metadata": {},
   "outputs": [],
   "source": []
  },
  {
   "cell_type": "code",
   "execution_count": null,
   "id": "1f745e06-a1d0-447a-bfb0-75ff75752018",
   "metadata": {},
   "outputs": [],
   "source": [
    "# Q3\n",
    "# Which collection datatypes in python do not allow duplicate items? Write a code using a set to remove\n",
    "# duplicates from the given list."
   ]
  },
  {
   "cell_type": "code",
   "execution_count": null,
   "id": "a8754c16-fc7e-432e-b637-837556adedd1",
   "metadata": {},
   "outputs": [],
   "source": [
    "# Set do not allow duplicate items in it"
   ]
  },
  {
   "cell_type": "code",
   "execution_count": 28,
   "id": "ade4efc6-32e0-4487-8648-2cf1ded35187",
   "metadata": {},
   "outputs": [
    {
     "name": "stdout",
     "output_type": "stream",
     "text": [
      "{1, 2, 3, 4}\n"
     ]
    }
   ],
   "source": [
    "LIST=[1,1,1,2,1,3,1,4,2,1,2,2,2,3,2,4,3,1,3,2,3,3,3,4,4,1,4,2,4,3,4,4]\n",
    "new_list=set(LIST)\n",
    "print(new_list)"
   ]
  },
  {
   "cell_type": "code",
   "execution_count": null,
   "id": "1f6e0c9b-1bff-47ee-af54-2195bcee1e8d",
   "metadata": {},
   "outputs": [],
   "source": []
  },
  {
   "cell_type": "code",
   "execution_count": null,
   "id": "589457ed-121a-4cf9-962c-0c3a6de1175c",
   "metadata": {},
   "outputs": [],
   "source": [
    "#Q4\n",
    "#  Explain the difference between the union() and update() methods for a set. Give an example of\n",
    "# each method."
   ]
  },
  {
   "cell_type": "code",
   "execution_count": 36,
   "id": "a21579eb-8a36-4a04-8c35-c631e3f1952e",
   "metadata": {},
   "outputs": [
    {
     "name": "stdout",
     "output_type": "stream",
     "text": [
      "{1, 2, 3, 4, 5, 'bye', (1, 2, 3), 'hi'}\n"
     ]
    }
   ],
   "source": [
    "# union and update in set\n",
    "# in simple words union() create a new set that contain both object\n",
    "set1={1,2,3,4,5}\n",
    "set2={\"hi\",3,(1,2,3),\"bye\"}\n",
    "set3=set2.union(set1)\n",
    "print(set3)"
   ]
  },
  {
   "cell_type": "code",
   "execution_count": 45,
   "id": "b0d0ded7-4fb8-49f6-849f-1a3383d12d90",
   "metadata": {},
   "outputs": [
    {
     "data": {
      "text/plain": [
       "{1, 2, 29, 2902, 3, 4, 5, 6, 'hello', 'hi'}"
      ]
     },
     "execution_count": 45,
     "metadata": {},
     "output_type": "execute_result"
    }
   ],
   "source": [
    "# update \n",
    "# in simple words update() add all elements from another set and modify the orginal set\n",
    "set4={1,2,3,4,5}\n",
    "set5={\"hello\",6,29,2902,\"hi\",1}\n",
    "set5.update(set4)\n",
    "print(set5)"
   ]
  },
  {
   "cell_type": "code",
   "execution_count": null,
   "id": "38f9dd21-37d0-440e-bb43-2004ab66a824",
   "metadata": {},
   "outputs": [],
   "source": []
  },
  {
   "cell_type": "code",
   "execution_count": null,
   "id": "e6b28f81-5d93-40ab-a637-d321f09c1836",
   "metadata": {},
   "outputs": [],
   "source": [
    "#\n",
    "# Q5. What is a dictionary? Give an example. Also, state whether a dictionary is ordered or unordered."
   ]
  },
  {
   "cell_type": "code",
   "execution_count": 47,
   "id": "73fb340a-fa76-41b9-833a-59e67c72c642",
   "metadata": {},
   "outputs": [
    {
     "name": "stdout",
     "output_type": "stream",
     "text": [
      "{'name': 'Manjot', 'age': 20}\n"
     ]
    }
   ],
   "source": [
    "# A dictionary is a collection of key:value pairs where key must be unique and immutuable and value can be of anytype.\n",
    "# dictionary is unorederd\n",
    "# example\n",
    "dict1={\"name\":\"Manjot\",\"age\":20,}\n",
    "print(dict1)"
   ]
  },
  {
   "cell_type": "code",
   "execution_count": null,
   "id": "2e9779dd-cbd3-4fdc-8047-820d8ec717b8",
   "metadata": {},
   "outputs": [],
   "source": []
  },
  {
   "cell_type": "code",
   "execution_count": null,
   "id": "1a6df366-84be-40f9-8c45-95985d597b71",
   "metadata": {},
   "outputs": [],
   "source": [
    "# Q6 \n",
    "#Can we create a nested dictionary? If so, please give an example by creating a simple one-level nested dictionary."
   ]
  },
  {
   "cell_type": "code",
   "execution_count": 51,
   "id": "1181ebf6-80f0-458a-b9e5-059422cdf46f",
   "metadata": {},
   "outputs": [
    {
     "name": "stdout",
     "output_type": "stream",
     "text": [
      "Singh\n"
     ]
    }
   ],
   "source": [
    "# Yes, we can create a nested dictionary \n",
    "dict2={\"ID\":{\"name\":\"Manjot\",\"age\":20,\"roll.no.\":32,\"last_name\": \"Singh\"}}\n",
    "print(dict2[\"ID\"][\"last_name\"])"
   ]
  },
  {
   "cell_type": "code",
   "execution_count": null,
   "id": "8b6c00c3-4840-4503-807b-0c4aa1534026",
   "metadata": {},
   "outputs": [],
   "source": []
  },
  {
   "cell_type": "code",
   "execution_count": null,
   "id": "cc65d38e-9071-4540-b079-9d0d0c6f2440",
   "metadata": {},
   "outputs": [],
   "source": [
    "#\n",
    "#Q7. Using setdefault() method, create key named topics in the given dictionary and also add the value of\n",
    "#the key as this list ['Python', 'Machine Learning’, 'Deep Learning']\n",
    "#dict1 = {'language' : 'Python', 'course': 'Data Science Masters'}"
   ]
  },
  {
   "cell_type": "code",
   "execution_count": 61,
   "id": "f48628d0-4cb3-4cb9-989c-40b69cb2e262",
   "metadata": {},
   "outputs": [
    {
     "name": "stdout",
     "output_type": "stream",
     "text": [
      "{'language': 'Python', 'course': 'Data Science Masters', 'topics': ['Python', 'Machine Learning', 'Deep Learning']}\n"
     ]
    }
   ],
   "source": [
    "dict1 = {'language' : 'Python', 'course': 'Data Science Masters'}\n",
    "dict1.setdefault(\"topics\",['Python', 'Machine Learning', 'Deep Learning'])\n",
    "print(dict1)"
   ]
  },
  {
   "cell_type": "code",
   "execution_count": null,
   "id": "b1d9a8c7-05f2-49a3-bd9c-045d996bfb94",
   "metadata": {},
   "outputs": [],
   "source": []
  },
  {
   "cell_type": "code",
   "execution_count": null,
   "id": "86c9d4f3-1424-4738-a9e1-31df12ab7733",
   "metadata": {},
   "outputs": [],
   "source": [
    "#Q8.\n",
    "#What are the three view objects in dictionaries? Use the three in-built methods in python to display\n",
    "#these three view objects for the given dictionary.\n"
   ]
  },
  {
   "cell_type": "code",
   "execution_count": 66,
   "id": "714a8412-cc2d-4157-b0f7-3127d5ba7828",
   "metadata": {},
   "outputs": [],
   "source": [
    "dict1 = {'Sport': 'Cricket' , 'Teams': ['India', 'Australia', 'England', 'South Africa', 'Sri Lanka', 'New Zealand']}"
   ]
  },
  {
   "cell_type": "code",
   "execution_count": 68,
   "id": "b9b07263-9bd4-438f-a89d-6f87593503a3",
   "metadata": {},
   "outputs": [
    {
     "name": "stdout",
     "output_type": "stream",
     "text": [
      "dict_keys(['Sport', 'Teams'])\n"
     ]
    }
   ],
   "source": [
    "print(dict1.keys())"
   ]
  },
  {
   "cell_type": "code",
   "execution_count": 69,
   "id": "cb260402-d62f-4ac4-9e54-b219c831edd1",
   "metadata": {},
   "outputs": [
    {
     "name": "stdout",
     "output_type": "stream",
     "text": [
      "dict_values(['Cricket', ['India', 'Australia', 'England', 'South Africa', 'Sri Lanka', 'New Zealand']])\n"
     ]
    }
   ],
   "source": [
    "print(dict1.values())"
   ]
  },
  {
   "cell_type": "code",
   "execution_count": 70,
   "id": "111338c1-7266-4cbc-8a08-9024db28c3c6",
   "metadata": {},
   "outputs": [
    {
     "name": "stdout",
     "output_type": "stream",
     "text": [
      "dict_items([('Sport', 'Cricket'), ('Teams', ['India', 'Australia', 'England', 'South Africa', 'Sri Lanka', 'New Zealand'])])\n"
     ]
    }
   ],
   "source": [
    "print(dict1.items())"
   ]
  },
  {
   "cell_type": "code",
   "execution_count": null,
   "id": "33f00812-1951-45af-b655-ba009704cf15",
   "metadata": {},
   "outputs": [],
   "source": []
  }
 ],
 "metadata": {
  "kernelspec": {
   "display_name": "Python 3 (ipykernel)",
   "language": "python",
   "name": "python3"
  },
  "language_info": {
   "codemirror_mode": {
    "name": "ipython",
    "version": 3
   },
   "file_extension": ".py",
   "mimetype": "text/x-python",
   "name": "python",
   "nbconvert_exporter": "python",
   "pygments_lexer": "ipython3",
   "version": "3.10.8"
  }
 },
 "nbformat": 4,
 "nbformat_minor": 5
}
